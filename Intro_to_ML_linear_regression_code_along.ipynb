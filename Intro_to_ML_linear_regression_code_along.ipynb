{
  "nbformat": 4,
  "nbformat_minor": 0,
  "metadata": {
    "kernelspec": {
      "display_name": "Python 3",
      "language": "python",
      "name": "python3"
    },
    "language_info": {
      "codemirror_mode": {
        "name": "ipython",
        "version": 3
      },
      "file_extension": ".py",
      "mimetype": "text/x-python",
      "name": "python",
      "nbconvert_exporter": "python",
      "pygments_lexer": "ipython3",
      "version": "3.7.0"
    },
    "colab": {
      "name": "Intro_to_ML_linear_regression_code-along.ipynb",
      "version": "0.3.2",
      "provenance": [],
      "include_colab_link": true
    }
  },
  "cells": [
    {
      "cell_type": "markdown",
      "metadata": {
        "id": "view-in-github",
        "colab_type": "text"
      },
      "source": [
        "<a href=\"https://colab.research.google.com/github/HaidyGiratallah/Intro_to_Machine_Learning_2019/blob/master/Intro_to_ML_linear_regression_code_along.ipynb\" target=\"_parent\"><img src=\"https://colab.research.google.com/assets/colab-badge.svg\" alt=\"Open In Colab\"/></a>"
      ]
    },
    {
      "cell_type": "markdown",
      "metadata": {
        "id": "t9ZV3D48AF28",
        "colab_type": "text"
      },
      "source": [
        "# Linear Regression\n",
        "\n",
        "In this notebook we'll explore how you can perform linear regression and the principles behind it. \n",
        "We'll first begin with a simple example of how one can perform linear regression through gradient descent then show how you can do an equivalent method via sklearn. Finally we'll work through cross-validation through both holdout and k-folds then explore the effect of regularization on the models we create.\n",
        "\n",
        "***"
      ]
    },
    {
      "cell_type": "markdown",
      "metadata": {
        "id": "qw5fVRRLAF3G",
        "colab_type": "text"
      },
      "source": [
        "First we'll import some Python modules that will prove useful for visualization and performing gradient descent"
      ]
    },
    {
      "cell_type": "code",
      "metadata": {
        "id": "QQk4SB55AF3K",
        "colab_type": "code",
        "colab": {}
      },
      "source": [
        ""
      ],
      "execution_count": 0,
      "outputs": []
    },
    {
      "cell_type": "markdown",
      "metadata": {
        "id": "lnQK4sAWAF3Y",
        "colab_type": "text"
      },
      "source": [
        "### Creating your dataset"
      ]
    },
    {
      "cell_type": "code",
      "metadata": {
        "id": "FMKYX66rAF3b",
        "colab_type": "code",
        "colab": {}
      },
      "source": [
        "#Make synthetic dataset for regression\n"
      ],
      "execution_count": 0,
      "outputs": []
    },
    {
      "cell_type": "markdown",
      "metadata": {
        "id": "Is7GTXkWAF3m",
        "colab_type": "text"
      },
      "source": [
        "The first thing that one might do when working with a new dataset is to plot the data. With high dimensional datasets this becomes rather difficult to do, so alternative methods of exploration are needed but we're keeping it simple here. "
      ]
    },
    {
      "cell_type": "code",
      "metadata": {
        "id": "eBcCHWszAF3q",
        "colab_type": "code",
        "colab": {}
      },
      "source": [
        ""
      ],
      "execution_count": 0,
      "outputs": []
    },
    {
      "cell_type": "code",
      "metadata": {
        "id": "IlBOogBqAF3z",
        "colab_type": "code",
        "colab": {}
      },
      "source": [
        ""
      ],
      "execution_count": 0,
      "outputs": []
    },
    {
      "cell_type": "markdown",
      "metadata": {
        "id": "xrZfe8J3AF4C",
        "colab_type": "text"
      },
      "source": [
        "Now that we've visualized our features (which in effect, has shown us that *we can predict y from X*), we can fit a linear regression model:"
      ]
    },
    {
      "cell_type": "code",
      "metadata": {
        "id": "iZRbOdnWAF4F",
        "colab_type": "code",
        "colab": {}
      },
      "source": [
        ""
      ],
      "execution_count": 0,
      "outputs": []
    },
    {
      "cell_type": "markdown",
      "metadata": {
        "id": "m9jgrxiRAF4Q",
        "colab_type": "text"
      },
      "source": [
        "With sklearn model fitting is incredibly easy to do. All you need to do is to specify a model, then fit the model to the data that you have."
      ]
    },
    {
      "cell_type": "code",
      "metadata": {
        "id": "3J0f8O4TAF4T",
        "colab_type": "code",
        "colab": {}
      },
      "source": [
        ""
      ],
      "execution_count": 0,
      "outputs": []
    },
    {
      "cell_type": "markdown",
      "metadata": {
        "id": "iEZ0EQC9AF4e",
        "colab_type": "text"
      },
      "source": [
        "Once a model is fit we can query some properties from it such as the coefficients of the linear model and the intercept."
      ]
    },
    {
      "cell_type": "code",
      "metadata": {
        "id": "qv-WBEnzAF4h",
        "colab_type": "code",
        "colab": {}
      },
      "source": [
        ""
      ],
      "execution_count": 0,
      "outputs": []
    },
    {
      "cell_type": "markdown",
      "metadata": {
        "id": "JK7OvAffAF4s",
        "colab_type": "text"
      },
      "source": [
        "You can interpret the linear model as such:\n",
        "\n",
        "$$\\hat{y} = w^Tx + \\beta$$\n",
        "\n",
        "Where:\n",
        "\n",
        "- $w$ = <code>lm.coef_</code>\n",
        "- $\\beta$ = <code>lm.intercept_</code>"
      ]
    },
    {
      "cell_type": "markdown",
      "metadata": {
        "id": "07AkA1tnAF4u",
        "colab_type": "text"
      },
      "source": [
        "In order to use the model in order to predict new values, we can feed it a set of inputs to predict on using <code>lm.predict</code>:"
      ]
    },
    {
      "cell_type": "code",
      "metadata": {
        "id": "5EPkeF5zAF4y",
        "colab_type": "code",
        "colab": {}
      },
      "source": [
        ""
      ],
      "execution_count": 0,
      "outputs": []
    },
    {
      "cell_type": "markdown",
      "metadata": {
        "id": "jKxmMfXjAF48",
        "colab_type": "text"
      },
      "source": [
        "To visualize the model which is sometimes useful to do (especially in the low-dimensional case), we can generate predictions for a set of input X values and overlay the model over our raw data:"
      ]
    },
    {
      "cell_type": "code",
      "metadata": {
        "id": "ofKnMD0dAF4_",
        "colab_type": "code",
        "colab": {}
      },
      "source": [
        ""
      ],
      "execution_count": 0,
      "outputs": []
    },
    {
      "cell_type": "markdown",
      "metadata": {
        "id": "CKtFkZAJAF5K",
        "colab_type": "text"
      },
      "source": [
        "Now that we've visualized the model we can also calculate residuals which is a way of assessing how well our model did. To do this, all we need to do is to generate predictions for each point in our raw data and then compare it to the actual datapoint of our raw data:"
      ]
    },
    {
      "cell_type": "code",
      "metadata": {
        "id": "qnYcmKNCAF5N",
        "colab_type": "code",
        "colab": {}
      },
      "source": [
        ""
      ],
      "execution_count": 0,
      "outputs": []
    },
    {
      "cell_type": "code",
      "metadata": {
        "id": "bQQ1w4GrAF5X",
        "colab_type": "code",
        "colab": {}
      },
      "source": [
        ""
      ],
      "execution_count": 0,
      "outputs": []
    },
    {
      "cell_type": "markdown",
      "metadata": {
        "id": "3vtEyLYyAF5j",
        "colab_type": "text"
      },
      "source": [
        "Of course the value of the MSE that we generate isn't really a useful indicator all by itself. It only really makes sense when we compare it to an alternative model. Let's suppose that we have an alternative model of the following form which we've just eye-balled:\n",
        "\n",
        "$$f(x) = 25X + 25$$"
      ]
    },
    {
      "cell_type": "markdown",
      "metadata": {
        "id": "Bu9AVL1nAF5p",
        "colab_type": "text"
      },
      "source": [
        "### Exercise: \n",
        "Visualize the two linear regression models. Which one do you think is better? Calculate the MSE on the alternative model. Which model has the lower MSE? "
      ]
    },
    {
      "cell_type": "markdown",
      "metadata": {
        "id": "bo4iKcSqAF5s",
        "colab_type": "text"
      },
      "source": [
        "### Solution:"
      ]
    },
    {
      "cell_type": "code",
      "metadata": {
        "id": "eHzItw7YAF5v",
        "colab_type": "code",
        "colab": {}
      },
      "source": [
        ""
      ],
      "execution_count": 0,
      "outputs": []
    },
    {
      "cell_type": "markdown",
      "metadata": {
        "id": "wkwZ-DbHAF55",
        "colab_type": "text"
      },
      "source": [
        "Our eye-balled linear model did surprisingly well but does not perform as well as Sklearn's optimized linear model. "
      ]
    },
    {
      "cell_type": "markdown",
      "metadata": {
        "id": "4Xpdq-vkAF58",
        "colab_type": "text"
      },
      "source": [
        "***"
      ]
    },
    {
      "cell_type": "markdown",
      "metadata": {
        "id": "fAmT3AzsAF5_",
        "colab_type": "text"
      },
      "source": [
        "But wait! We just fit some ML models on our entire dataset then calculated the MSE using the data that we fit the model to! **This is wrong!!!!**. With the goal of statistical modelling being generalizability of your models, we need to re-do this, and do it properly... let's perform cross-validation to get an idea of how well our model will perform. We'll perform two types of cross-validation:\n",
        "\n",
        "1. Holdout Cross Validation\n",
        "2. K-Fold Cross validation"
      ]
    },
    {
      "cell_type": "markdown",
      "metadata": {
        "id": "0R4-ujHjAF6D",
        "colab_type": "text"
      },
      "source": [
        "### Holdout Cross Validation"
      ]
    },
    {
      "cell_type": "markdown",
      "metadata": {
        "id": "_pPEOvxqAF6F",
        "colab_type": "text"
      },
      "source": [
        "Let's use Pandas to simplify working with the data and keep tabs on which subset of the data is meant for training or testing:"
      ]
    },
    {
      "cell_type": "code",
      "metadata": {
        "id": "hhRR5ZpjAF6J",
        "colab_type": "code",
        "colab": {}
      },
      "source": [
        ""
      ],
      "execution_count": 0,
      "outputs": []
    },
    {
      "cell_type": "markdown",
      "metadata": {
        "id": "VwLT5szpAF6T",
        "colab_type": "text"
      },
      "source": [
        "Let's perform 60/40 holdout split. That means we'll have to select 60% of our data to convert into Training and 40% of our data to convert into Testing. We'll do this by using pandas <code>DataFrame.sample</code> which will shuffle our raw data then we'll convert 60% of the data into train and 40% of the data into test:"
      ]
    },
    {
      "cell_type": "code",
      "metadata": {
        "id": "5iirw8QfAF6a",
        "colab_type": "code",
        "colab": {}
      },
      "source": [
        "#First get indices for each of the training data\n"
      ],
      "execution_count": 0,
      "outputs": []
    },
    {
      "cell_type": "code",
      "metadata": {
        "id": "jqQRhVHwAF6q",
        "colab_type": "code",
        "colab": {}
      },
      "source": [
        "df.head()"
      ],
      "execution_count": 0,
      "outputs": []
    },
    {
      "cell_type": "markdown",
      "metadata": {
        "id": "yt9BSHQKAF69",
        "colab_type": "text"
      },
      "source": [
        "### Exercise\n",
        "\n",
        "Train the model on the training dataset, then compute the MSE on both the training and testing dataset"
      ]
    },
    {
      "cell_type": "markdown",
      "metadata": {
        "id": "ffKl69D6AF7C",
        "colab_type": "text"
      },
      "source": [
        "### Solution"
      ]
    },
    {
      "cell_type": "code",
      "metadata": {
        "id": "8ELrgCwRAF7E",
        "colab_type": "code",
        "colab": {}
      },
      "source": [
        ""
      ],
      "execution_count": 0,
      "outputs": []
    },
    {
      "cell_type": "code",
      "metadata": {
        "id": "nz6voIamAF7N",
        "colab_type": "code",
        "colab": {}
      },
      "source": [
        ""
      ],
      "execution_count": 0,
      "outputs": []
    },
    {
      "cell_type": "markdown",
      "metadata": {
        "id": "LM9UjLjSAF7X",
        "colab_type": "text"
      },
      "source": [
        "With **holdout** in particular, there's an easier way to set up your data using sklearn which can produce train and test data for you automatically:"
      ]
    },
    {
      "cell_type": "code",
      "metadata": {
        "id": "Gg1g_PEFAF7c",
        "colab_type": "code",
        "colab": {}
      },
      "source": [
        ""
      ],
      "execution_count": 0,
      "outputs": []
    },
    {
      "cell_type": "code",
      "metadata": {
        "id": "o4uvv7GhAF7l",
        "colab_type": "code",
        "colab": {}
      },
      "source": [
        ""
      ],
      "execution_count": 0,
      "outputs": []
    },
    {
      "cell_type": "code",
      "metadata": {
        "id": "S5r2G0qwAF7u",
        "colab_type": "code",
        "colab": {}
      },
      "source": [
        ""
      ],
      "execution_count": 0,
      "outputs": []
    },
    {
      "cell_type": "markdown",
      "metadata": {
        "id": "cp32rQuoAF7_",
        "colab_type": "text"
      },
      "source": [
        "We can proceed as usual with the same level of caution for dealing with data shapes"
      ]
    },
    {
      "cell_type": "markdown",
      "metadata": {
        "id": "NoC_0_NwAF8C",
        "colab_type": "text"
      },
      "source": [
        "### Exercise:\n",
        "\n",
        "Perform holdout cross-validation on data generated by <code>train_test_split</code>"
      ]
    },
    {
      "cell_type": "markdown",
      "metadata": {
        "id": "Z-IoT2p_AF8E",
        "colab_type": "text"
      },
      "source": [
        "As expected a model optimized on the training data need not perform well against testing data indicating to us our expected generalization performance is not as good as we'd expect when we trained the model on the full dataset. This is actually rather typical. However as it is a **holdout** validation score and our dataset is relatively small it's subject to error. Instead let's use a better estimate **k-fold** cross validation which is slightly more complicated to set up."
      ]
    },
    {
      "cell_type": "markdown",
      "metadata": {
        "id": "BhJOLt0FAF8H",
        "colab_type": "text"
      },
      "source": [
        "***"
      ]
    },
    {
      "cell_type": "markdown",
      "metadata": {
        "id": "W5p2wsUQAF8K",
        "colab_type": "text"
      },
      "source": [
        "### K-Fold Cross Validation"
      ]
    },
    {
      "cell_type": "markdown",
      "metadata": {
        "id": "NNTUmBuWAF8M",
        "colab_type": "text"
      },
      "source": [
        "Recall that **K-Fold** cross validation is done through splitting up the data into $K$ different subsets of the data. We select each subset of the data and use it as a test set, the rest of the $K-1$ folds become our training data to build a model on:"
      ]
    },
    {
      "cell_type": "markdown",
      "metadata": {
        "id": "IIxVuSEVAF8O",
        "colab_type": "text"
      },
      "source": [
        "Easy steps to building a **K-Fold** cross-validation dataset:\n",
        "1. Shuffle the data order to ensure randomization (in case your data is ordered for whatever reason)\n",
        "2. Split the data into $K$ equal segments\n",
        "3. For each segment assign it a fold number equal to which segment it is"
      ]
    },
    {
      "cell_type": "code",
      "metadata": {
        "id": "Ci1l_ncZAF8S",
        "colab_type": "code",
        "colab": {}
      },
      "source": [
        "#Pick number of folds\n"
      ],
      "execution_count": 0,
      "outputs": []
    },
    {
      "cell_type": "code",
      "metadata": {
        "id": "lKc1zrq4AF8b",
        "colab_type": "code",
        "colab": {}
      },
      "source": [
        "#Shuffle the data\n"
      ],
      "execution_count": 0,
      "outputs": []
    },
    {
      "cell_type": "code",
      "metadata": {
        "id": "hJlbdLwSAF8p",
        "colab_type": "code",
        "colab": {}
      },
      "source": [
        "#Get total number of samples:\n"
      ],
      "execution_count": 0,
      "outputs": []
    },
    {
      "cell_type": "code",
      "metadata": {
        "id": "cSiKunojAF80",
        "colab_type": "code",
        "colab": {}
      },
      "source": [
        "#Loop through K times and assign each subset it's fold\n"
      ],
      "execution_count": 0,
      "outputs": []
    },
    {
      "cell_type": "markdown",
      "metadata": {
        "id": "dgSbbc3kAF8_",
        "colab_type": "text"
      },
      "source": [
        "Now that we've assigned each subset of the data a fold number the next step is to loop through each fold, train the model on the rest of the data, and test it on the selected fold:"
      ]
    },
    {
      "cell_type": "code",
      "metadata": {
        "id": "DDKAe-XDAF9B",
        "colab_type": "code",
        "colab": {}
      },
      "source": [
        "\n"
      ],
      "execution_count": 0,
      "outputs": []
    },
    {
      "cell_type": "markdown",
      "metadata": {
        "id": "2xKmCSeqAF9I",
        "colab_type": "text"
      },
      "source": [
        "K-Folds gives a much more stable estimate of what our MSE would look like on unseen data. In fact the larger K is, the more stable your estimate is (under some conditions), with a trade-off of compute time. "
      ]
    },
    {
      "cell_type": "markdown",
      "metadata": {
        "id": "DSYKphkcAF9K",
        "colab_type": "text"
      },
      "source": [
        "***"
      ]
    },
    {
      "cell_type": "markdown",
      "metadata": {
        "id": "s5c4cEOdAF9M",
        "colab_type": "text"
      },
      "source": [
        "Another easy way to calculate MSE on your data is to use <code>sklearn.metrics</code> which provides a function to easily calculate mean squared error. It looks as follows:"
      ]
    },
    {
      "cell_type": "code",
      "metadata": {
        "id": "zE25-vQYAF9S",
        "colab_type": "code",
        "colab": {}
      },
      "source": [
        ""
      ],
      "execution_count": 0,
      "outputs": []
    },
    {
      "cell_type": "code",
      "metadata": {
        "id": "Y_6Wke2SAF9c",
        "colab_type": "code",
        "colab": {}
      },
      "source": [
        ""
      ],
      "execution_count": 0,
      "outputs": []
    },
    {
      "cell_type": "markdown",
      "metadata": {
        "id": "VscQrUS0AF9p",
        "colab_type": "text"
      },
      "source": [
        "***"
      ]
    },
    {
      "cell_type": "markdown",
      "metadata": {
        "id": "ElzHhND_AF9s",
        "colab_type": "text"
      },
      "source": [
        "## Expanding to multiple dimensions and regularization of your linear model\n",
        "\n",
        "\n",
        "Now that we've familiarized ourselves with running a linear model in 2-dimensional space it's time to really take advantage of linear regression's ability to deal with high-dimensional space!\n",
        "\n",
        "We'll go over the following concepts:\n",
        "\n",
        "1. Training a high-dimensional linear regression model\n",
        "2. What overfitting looks like\n",
        "3. Ridge penalization\n",
        "4. LASSO regression as a linear feature selector"
      ]
    },
    {
      "cell_type": "markdown",
      "metadata": {
        "id": "MdLTbgfOAF9u",
        "colab_type": "text"
      },
      "source": [
        "### Make dataset"
      ]
    },
    {
      "cell_type": "code",
      "metadata": {
        "id": "qIwTixcsAF99",
        "colab_type": "code",
        "colab": {}
      },
      "source": [
        ""
      ],
      "execution_count": 0,
      "outputs": []
    },
    {
      "cell_type": "code",
      "metadata": {
        "id": "2lViyajxAF-I",
        "colab_type": "code",
        "colab": {}
      },
      "source": [
        ""
      ],
      "execution_count": 0,
      "outputs": []
    },
    {
      "cell_type": "markdown",
      "metadata": {
        "id": "Wvspk8zBAF-T",
        "colab_type": "text"
      },
      "source": [
        "With this dataset, we have $50$ features to work with, and $2000$ samples! This is effectively not visualizable and therefore will require us work with our intuition with how data behaves in high-dimensional space.\n",
        "\n",
        "First we'll start with the most naive approach. Let's start with a simple regression model, explore where it goes wrong with K-fold cross-validation, then try other approaches that can help us get better generalization out of our data:\n",
        "\n",
        "I've created some \"helper functions\" to get you set up quickly. If you'd like to know how things work feel free to copy and paste the function code and examine how each step functions to assign K folds"
      ]
    },
    {
      "cell_type": "code",
      "metadata": {
        "id": "176F5_CaAF-X",
        "colab_type": "code",
        "colab": {}
      },
      "source": [
        ""
      ],
      "execution_count": 0,
      "outputs": []
    },
    {
      "cell_type": "code",
      "metadata": {
        "id": "LE-Nw2R6AF-r",
        "colab_type": "code",
        "colab": {}
      },
      "source": [
        ""
      ],
      "execution_count": 0,
      "outputs": []
    },
    {
      "cell_type": "code",
      "metadata": {
        "id": "1uyhKB-uAF-5",
        "colab_type": "code",
        "colab": {}
      },
      "source": [
        ""
      ],
      "execution_count": 0,
      "outputs": []
    },
    {
      "cell_type": "code",
      "metadata": {
        "id": "JSjRustaAF_P",
        "colab_type": "code",
        "colab": {}
      },
      "source": [
        ""
      ],
      "execution_count": 0,
      "outputs": []
    },
    {
      "cell_type": "code",
      "metadata": {
        "id": "5myphxZ2AF_k",
        "colab_type": "code",
        "colab": {}
      },
      "source": [
        ""
      ],
      "execution_count": 0,
      "outputs": []
    },
    {
      "cell_type": "code",
      "metadata": {
        "id": "m0GTQdeEAF_v",
        "colab_type": "code",
        "colab": {}
      },
      "source": [
        ""
      ],
      "execution_count": 0,
      "outputs": []
    },
    {
      "cell_type": "code",
      "metadata": {
        "id": "Kv4i6Tl_AF_8",
        "colab_type": "code",
        "colab": {}
      },
      "source": [
        ""
      ],
      "execution_count": 0,
      "outputs": []
    },
    {
      "cell_type": "markdown",
      "metadata": {
        "id": "c6D3FIgoAGAJ",
        "colab_type": "text"
      },
      "source": [
        "Looks like our model performs a lot worse on the test set compared to our training set... The error is sometimes 3-4 times larger than what we see in the training set. This is a classic result of over-fitting your data! \n",
        "\n",
        "The probable reason for why this is the case is that the number of features that we have is just **way too high**. We have a tiny sample relative to the number of features that we need to deal with. This scenario is all too common in big-data derived from health-care (and usually even worse!). \n",
        "\n",
        "If you recall from the ML theory lecture, there are a few ways to combat this:\n",
        "\n",
        "1. ***Stop being greedy* and pick out your important features**. However in this case we have no idea what our data actually means, it's just a bunch of $x_i$ meaningless features we have no *a priori* knowledge about. So this isn't a feasibe option...\n",
        "2. **Dimensionality Reduction**. This is a great way to reduce the number of features in your dataset while maintaining as much variance as possible. We'll get to this in a later component of this workshop\n",
        "3. **Regularization**. We could try using **regularization** to deal with the problem of having too many features.\n",
        "***\n",
        "\n",
        "Recall that **regularization** works by modifying the cost function such that it is penalized by the total weight of the features. There are two main kinds of regularization that are typically used (although an infinite amount of regularization methods exist!). \n",
        "\n",
        "1. **Ridge** - $L_2$ penalization using the form $\\text{Cost} + \\lambda \\sum_{i=0}^{K}w_i^2$\n",
        "2. **LASSO** - $L_1$ penalization using the form $\\text{Cost} + \\lambda \\sum_{i=0}^{K}|w_i|$\n",
        "\n",
        "We'll explore both these techniques and how they influence our ability to generalize to unseen data. \n",
        "\n",
        "***\n",
        "Remember that $\\lambda$ is a weight factor that determines just *how strongly we should penalize high feature weights*. This is called a **hyperparameter** of the model and is typically also optimized. However we won't explore this topic as that is pretty advanced. Although if you're interested look up:\n",
        "\n",
        "1. Hyperparameter optimization\n",
        "2. sklearn's GridSearchCV, RandomSearchCV\n",
        "3. Bayesian Optimization of Hyperparameters\n",
        "4. Nested K-fold cross validation\n",
        "***"
      ]
    },
    {
      "cell_type": "markdown",
      "metadata": {
        "id": "O2tT5xXHAGAM",
        "colab_type": "text"
      },
      "source": [
        "Luckily, using both **Ridge** and **LASSO** penalization for our models is as easy as importing it from <code>sklearn</code>! We train it the exact same way we do it for the standard <code>LinearRegression</code> model"
      ]
    },
    {
      "cell_type": "code",
      "metadata": {
        "id": "fQZyExjCAGAS",
        "colab_type": "code",
        "colab": {}
      },
      "source": [
        ""
      ],
      "execution_count": 0,
      "outputs": []
    },
    {
      "cell_type": "markdown",
      "metadata": {
        "id": "mTDSQ2dXAGAd",
        "colab_type": "text"
      },
      "source": [
        "### Ridge-penalized Regression\n",
        "\n",
        "Let's first train our Ridge-penalized linear model using the same K-fold cross-validation"
      ]
    },
    {
      "cell_type": "code",
      "metadata": {
        "id": "XYc4-1zOAGAi",
        "colab_type": "code",
        "colab": {}
      },
      "source": [
        ""
      ],
      "execution_count": 0,
      "outputs": []
    },
    {
      "cell_type": "code",
      "metadata": {
        "id": "3BWcfM20AGAq",
        "colab_type": "code",
        "colab": {}
      },
      "source": [
        ""
      ],
      "execution_count": 0,
      "outputs": []
    },
    {
      "cell_type": "markdown",
      "metadata": {
        "id": "oZXKZZbsAGAx",
        "colab_type": "text"
      },
      "source": [
        "Notice what happened here! With Ridge penalization what we did was perform a trade-off. Intuitively what's happening is that Ridge penalization reducing feature weights (linear model coefficients) across all our features which is effectively reducing the complexity of our model. Thus in total our model is being shifted from being too complex (over-fitting, too much variance) to a simpler model (slightly under-fitting possibly, less variance)!\n",
        "\n",
        "Since our end goal really is to maximize the generalizability of our model, we've gained a net positive by penalizing our model for selecting weights that are too high!"
      ]
    },
    {
      "cell_type": "markdown",
      "metadata": {
        "id": "y48y_gGTAGAz",
        "colab_type": "text"
      },
      "source": [
        "### LASSO Regression"
      ]
    },
    {
      "cell_type": "markdown",
      "metadata": {
        "id": "vpjJdQbAAGA0",
        "colab_type": "text"
      },
      "source": [
        "**LASSO** also performs a somewhat similar task to **Ridge**. If you recall from the lecture, the main difference between LASSO and Ridge is that while Ridge reduces only the overall mean weight across all features, LASSO has a tendency to push some features to 0 (features it deems \"unimportant\" by way of collinearity). \n",
        "\n",
        "The game-changing thing about **LASSO** is that it gives us a *subset of features that stand-out as being useful in predicting the outcome $y$*. This is incredibly useful for helping us narrow down on useful features when we're flooded with tons of data. In a scientific setting **LASSO** is great for data-driven hypothesis generation. "
      ]
    },
    {
      "cell_type": "code",
      "metadata": {
        "id": "P54FiHDGAGA2",
        "colab_type": "code",
        "colab": {}
      },
      "source": [
        ""
      ],
      "execution_count": 0,
      "outputs": []
    },
    {
      "cell_type": "code",
      "metadata": {
        "id": "eewvYknKAGA8",
        "colab_type": "code",
        "colab": {}
      },
      "source": [
        ""
      ],
      "execution_count": 0,
      "outputs": []
    },
    {
      "cell_type": "markdown",
      "metadata": {
        "id": "REsB-CthAGBC",
        "colab_type": "text"
      },
      "source": [
        "LASSO performs almost as well as Ridge on the training dataset, but more importantly it also selects a subset of useful features. Let's take a look at the feature weights determined by each of the models that we've trained. For the final model remember that we train the model on the full dataset so let's do that:"
      ]
    },
    {
      "cell_type": "code",
      "metadata": {
        "scrolled": true,
        "id": "vSfrMvKhAGBD",
        "colab_type": "code",
        "colab": {}
      },
      "source": [
        ""
      ],
      "execution_count": 0,
      "outputs": []
    },
    {
      "cell_type": "markdown",
      "metadata": {
        "id": "0e63lrPwAGBJ",
        "colab_type": "text"
      },
      "source": [
        "With each model trained let's pull out the coefficient each model spits out. We'll include the intercepts as well:"
      ]
    },
    {
      "cell_type": "code",
      "metadata": {
        "id": "hq8ntoJjAGBL",
        "colab_type": "code",
        "colab": {}
      },
      "source": [
        ""
      ],
      "execution_count": 0,
      "outputs": []
    },
    {
      "cell_type": "markdown",
      "metadata": {
        "id": "OOjUlk6qAGBR",
        "colab_type": "text"
      },
      "source": [
        "Now with every coefficient pulled out, let's plot them all:"
      ]
    },
    {
      "cell_type": "code",
      "metadata": {
        "id": "u26jv5uCAGBS",
        "colab_type": "code",
        "colab": {}
      },
      "source": [
        ""
      ],
      "execution_count": 0,
      "outputs": []
    }
  ]
}