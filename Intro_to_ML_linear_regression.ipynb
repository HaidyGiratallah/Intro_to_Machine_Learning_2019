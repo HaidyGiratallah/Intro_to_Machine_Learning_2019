{
  "nbformat": 4,
  "nbformat_minor": 0,
  "metadata": {
    "kernelspec": {
      "display_name": "Python 3",
      "language": "python",
      "name": "python3"
    },
    "language_info": {
      "codemirror_mode": {
        "name": "ipython",
        "version": 3
      },
      "file_extension": ".py",
      "mimetype": "text/x-python",
      "name": "python",
      "nbconvert_exporter": "python",
      "pygments_lexer": "ipython3",
      "version": "3.7.0"
    },
    "colab": {
      "name": "Intro_to_ML_linear_regression.ipynb",
      "version": "0.3.2",
      "provenance": [],
      "include_colab_link": true
    }
  },
  "cells": [
    {
      "cell_type": "markdown",
      "metadata": {
        "id": "view-in-github",
        "colab_type": "text"
      },
      "source": [
        "<a href=\"https://colab.research.google.com/github/HaidyGiratallah/Intro_to_Machine_Learning_2019/blob/master/Intro_to_ML_linear_regression.ipynb\" target=\"_parent\"><img src=\"https://colab.research.google.com/assets/colab-badge.svg\" alt=\"Open In Colab\"/></a>"
      ]
    },
    {
      "cell_type": "markdown",
      "metadata": {
        "id": "t9ZV3D48AF28",
        "colab_type": "text"
      },
      "source": [
        "# Linear Regression\n",
        "\n",
        "In this notebook we'll explore how you can perform linear regression and the principles behind it. \n",
        "We'll first begin with a simple example of how one can perform linear regression through gradient descent then show how you can do an equivalent method via sklearn. Finally we'll work through cross-validation through both holdout and k-folds then explore the effect of regularization on the models we create.\n",
        "\n",
        "***"
      ]
    },
    {
      "cell_type": "markdown",
      "metadata": {
        "id": "qw5fVRRLAF3G",
        "colab_type": "text"
      },
      "source": [
        "First we'll import some Python modules that will prove useful for visualization and performing gradient descent"
      ]
    },
    {
      "cell_type": "code",
      "metadata": {
        "id": "QQk4SB55AF3K",
        "colab_type": "code",
        "colab": {}
      },
      "source": [
        "import numpy as np\n",
        "from sklearn.datasets import make_regression\n",
        "\n",
        "import matplotlib.pyplot as plt\n",
        "import seaborn as sns\n",
        "import pandas as pd"
      ],
      "execution_count": 0,
      "outputs": []
    },
    {
      "cell_type": "markdown",
      "metadata": {
        "id": "lnQK4sAWAF3Y",
        "colab_type": "text"
      },
      "source": [
        "### Creating your dataset"
      ]
    },
    {
      "cell_type": "code",
      "metadata": {
        "id": "FMKYX66rAF3b",
        "colab_type": "code",
        "colab": {}
      },
      "source": [
        "#Make synthetic dataset for regression\n",
        "n = 300\n",
        "bias = 20\n",
        "noise = 45\n",
        "X, y, coef = make_regression(n_samples=n,n_features=1,n_informative=1,\n",
        "               n_targets=1,coef=True, noise=noise,bias=bias,\n",
        "                             random_state=400)\n",
        "y = y.reshape(-1,1)"
      ],
      "execution_count": 0,
      "outputs": []
    },
    {
      "cell_type": "markdown",
      "metadata": {
        "id": "Is7GTXkWAF3m",
        "colab_type": "text"
      },
      "source": [
        "The first thing that one might do when working with a new dataset is to plot the data. With high dimensional datasets this becomes rather difficult to do, so alternative methods of exploration are needed but we're keeping it simple here. "
      ]
    },
    {
      "cell_type": "code",
      "metadata": {
        "id": "eBcCHWszAF3q",
        "colab_type": "code",
        "colab": {}
      },
      "source": [
        "plt.style.use('seaborn')"
      ],
      "execution_count": 0,
      "outputs": []
    },
    {
      "cell_type": "code",
      "metadata": {
        "id": "IlBOogBqAF3z",
        "colab_type": "code",
        "outputId": "f06053e4-6289-47bc-8a9b-dfb81f7347b3",
        "colab": {
          "base_uri": "https://localhost:8080/",
          "height": 394
        }
      },
      "source": [
        "fig, ax = plt.subplots()\n",
        "\n",
        "ax.plot(X,y,'c.',markersize=10,alpha=0.7,label='Data')\n",
        "\n",
        "ax.set_xlabel('X')\n",
        "ax.set_ylabel('y')\n",
        "ax.set_title('Raw Data')\n",
        "ax.legend()\n",
        "plt.plot()"
      ],
      "execution_count": 4,
      "outputs": [
        {
          "output_type": "execute_result",
          "data": {
            "text/plain": [
              "[]"
            ]
          },
          "metadata": {
            "tags": []
          },
          "execution_count": 4
        },
        {
          "output_type": "display_data",
          "data": {
            "image/png": "[encoded data removed]",
            "text/plain": [
              "<Figure size 576x396 with 1 Axes>"
            ]
          },
          "metadata": {
            "tags": []
          }
        }
      ]
    },
    {
      "cell_type": "markdown",
      "metadata": {
        "id": "xrZfe8J3AF4C",
        "colab_type": "text"
      },
      "source": [
        "Now that we've visualized our features (which in effect, has shown us that *we can predict y from X*), we can fit a linear regression model:"
      ]
    },
    {
      "cell_type": "code",
      "metadata": {
        "id": "iZRbOdnWAF4F",
        "colab_type": "code",
        "colab": {}
      },
      "source": [
        "from sklearn.linear_model import LinearRegression"
      ],
      "execution_count": 0,
      "outputs": []
    },
    {
      "cell_type": "markdown",
      "metadata": {
        "id": "m9jgrxiRAF4Q",
        "colab_type": "text"
      },
      "source": [
        "With sklearn model fitting is incredibly easy to do. All you need to do is to specify a model, then fit the model to the data that you have."
      ]
    },
    {
      "cell_type": "code",
      "metadata": {
        "id": "3J0f8O4TAF4T",
        "colab_type": "code",
        "outputId": "219014b5-41b7-425a-fcbc-f90c5aecfb94",
        "colab": {
          "base_uri": "https://localhost:8080/",
          "height": 35
        }
      },
      "source": [
        "lm = LinearRegression()\n",
        "lm.fit(X,y)"
      ],
      "execution_count": 6,
      "outputs": [
        {
          "output_type": "execute_result",
          "data": {
            "text/plain": [
              "LinearRegression(copy_X=True, fit_intercept=True, n_jobs=None, normalize=False)"
            ]
          },
          "metadata": {
            "tags": []
          },
          "execution_count": 6
        }
      ]
    },
    {
      "cell_type": "markdown",
      "metadata": {
        "id": "iEZ0EQC9AF4e",
        "colab_type": "text"
      },
      "source": [
        "Once a model is fit we can query some properties from it such as the coefficients of the linear model and the intercept."
      ]
    },
    {
      "cell_type": "code",
      "metadata": {
        "id": "qv-WBEnzAF4h",
        "colab_type": "code",
        "outputId": "b618c48a-6169-4eec-8384-8b126fc8f382",
        "colab": {
          "base_uri": "https://localhost:8080/",
          "height": 52
        }
      },
      "source": [
        "print(lm.coef_)\n",
        "print(lm.intercept_)"
      ],
      "execution_count": 7,
      "outputs": [
        {
          "output_type": "stream",
          "text": [
            "[[31.45961436]]\n",
            "[20.74127461]\n"
          ],
          "name": "stdout"
        }
      ]
    },
    {
      "cell_type": "markdown",
      "metadata": {
        "id": "JK7OvAffAF4s",
        "colab_type": "text"
      },
      "source": [
        "You can interpret the linear model as such:\n",
        "\n",
        "$$\\hat{y} = w^Tx + \\beta$$\n",
        "\n",
        "Where:\n",
        "\n",
        "- $w$ = <code>lm.coef_</code>\n",
        "- $\\beta$ = <code>lm.intercept_</code>"
      ]
    },
    {
      "cell_type": "markdown",
      "metadata": {
        "id": "07AkA1tnAF4u",
        "colab_type": "text"
      },
      "source": [
        "In order to use the model in order to predict new values, we can feed it a set of inputs to predict on using <code>lm.predict</code>:"
      ]
    },
    {
      "cell_type": "code",
      "metadata": {
        "id": "5EPkeF5zAF4y",
        "colab_type": "code",
        "colab": {}
      },
      "source": [
        "predX = np.linspace(-5,5).reshape(-1,1)\n",
        "predy = lm.predict(predX)"
      ],
      "execution_count": 0,
      "outputs": []
    },
    {
      "cell_type": "markdown",
      "metadata": {
        "id": "jKxmMfXjAF48",
        "colab_type": "text"
      },
      "source": [
        "To visualize the model which is sometimes useful to do (especially in the low-dimensional case), we can generate predictions for a set of input X values and overlay the model over our raw data:"
      ]
    },
    {
      "cell_type": "code",
      "metadata": {
        "id": "ofKnMD0dAF4_",
        "colab_type": "code",
        "outputId": "30802ab1-f867-4bd1-95b7-2c6c918a0533",
        "colab": {}
      },
      "source": [
        "fig, ax = plt.subplots()\n",
        "\n",
        "ax.plot(X,y,'c.',markersize=10,alpha=0.7,label='Data')\n",
        "ax.plot(predX,predy, 'k', label='Model Fit')\n",
        "\n",
        "ax.set_xlabel('X')\n",
        "ax.set_ylabel('y')\n",
        "ax.set_title('Raw Data')\n",
        "ax.legend()\n",
        "plt.plot()"
      ],
      "execution_count": 0,
      "outputs": [
        {
          "output_type": "execute_result",
          "data": {
            "text/plain": [
              "[]"
            ]
          },
          "metadata": {
            "tags": []
          },
          "execution_count": 41
        },
        {
          "output_type": "display_data",
          "data": {
            "image/png": "[encoded data removed]",
            "text/plain": [
              "<Figure size 576x396 with 1 Axes>"
            ]
          },
          "metadata": {
            "tags": []
          }
        }
      ]
    },
    {
      "cell_type": "markdown",
      "metadata": {
        "id": "CKtFkZAJAF5K",
        "colab_type": "text"
      },
      "source": [
        "Now that we've visualized the model we can also calculate residuals which is a way of assessing how well our model did. To do this, all we need to do is to generate predictions for each point in our raw data and then compare it to the actual datapoint of our raw data:"
      ]
    },
    {
      "cell_type": "code",
      "metadata": {
        "id": "qnYcmKNCAF5N",
        "colab_type": "code",
        "outputId": "65389713-ad9d-45f2-8b85-a7413f26376a",
        "colab": {}
      },
      "source": [
        "y_hat = lm.predict(X)\n",
        "error = y - y_hat\n",
        "mse = (error**2).sum()/y.shape[0]\n",
        "print(mse)"
      ],
      "execution_count": 0,
      "outputs": [
        {
          "output_type": "stream",
          "text": [
            "2054.621628615472\n"
          ],
          "name": "stdout"
        }
      ]
    },
    {
      "cell_type": "code",
      "metadata": {
        "id": "bQQ1w4GrAF5X",
        "colab_type": "code",
        "outputId": "70b7b117-ba61-4db1-ccb9-55551c5f29dc",
        "colab": {}
      },
      "source": [
        "lm.intercept_"
      ],
      "execution_count": 0,
      "outputs": [
        {
          "output_type": "execute_result",
          "data": {
            "text/plain": [
              "array([20.74127461])"
            ]
          },
          "metadata": {
            "tags": []
          },
          "execution_count": 48
        }
      ]
    },
    {
      "cell_type": "markdown",
      "metadata": {
        "id": "3vtEyLYyAF5j",
        "colab_type": "text"
      },
      "source": [
        "Of course the value of the MSE that we generate isn't really a useful indicator all by itself. It only really makes sense when we compare it to an alternative model. Let's suppose that we have an alternative model of the following form which we've just eye-balled:\n",
        "\n",
        "$$f(x) = 25X + 25$$"
      ]
    },
    {
      "cell_type": "markdown",
      "metadata": {
        "id": "Bu9AVL1nAF5p",
        "colab_type": "text"
      },
      "source": [
        "### Exercise: \n",
        "Visualize the two linear regression models. Which one do you think is better? Calculate the MSE on the alternative model. Which model has the lower MSE? "
      ]
    },
    {
      "cell_type": "markdown",
      "metadata": {
        "id": "bo4iKcSqAF5s",
        "colab_type": "text"
      },
      "source": [
        "### Solution:"
      ]
    },
    {
      "cell_type": "code",
      "metadata": {
        "id": "eHzItw7YAF5v",
        "colab_type": "code",
        "outputId": "dcd4ed27-33fa-47a4-b7c2-d66c4053ac6f",
        "colab": {}
      },
      "source": [
        "alt_yhat = 25 * X + 25\n",
        "alt_error = y - alt_yhat\n",
        "alt_mse = (alt_error**2).sum()/y.shape[0]\n",
        "print('sklearn LinearModel MSE: {}'.format(mse))\n",
        "print('Eye-balled LinearModel MSE: {}'.format(alt_mse))"
      ],
      "execution_count": 0,
      "outputs": [
        {
          "output_type": "stream",
          "text": [
            "sklearn LinearModel MSE: 2054.621628615472\n",
            "Eye-balled LinearModel MSE: 2117.9277148345204\n"
          ],
          "name": "stdout"
        }
      ]
    },
    {
      "cell_type": "markdown",
      "metadata": {
        "id": "wkwZ-DbHAF55",
        "colab_type": "text"
      },
      "source": [
        "Our eye-balled linear model did surprisingly well but does not perform as well as Sklearn's optimized linear model. "
      ]
    },
    {
      "cell_type": "markdown",
      "metadata": {
        "id": "4Xpdq-vkAF58",
        "colab_type": "text"
      },
      "source": [
        "***"
      ]
    },
    {
      "cell_type": "markdown",
      "metadata": {
        "id": "fAmT3AzsAF5_",
        "colab_type": "text"
      },
      "source": [
        "But wait! We just fit some ML models on our entire dataset then calculated the MSE using the data that we fit the model to! **This is wrong!!!!**. With the goal of statistical modelling being generalizability of your models, we need to re-do this, and do it properly... let's perform cross-validation to get an idea of how well our model will perform. We'll perform two types of cross-validation:\n",
        "\n",
        "1. Holdout Cross Validation\n",
        "2. K-Fold Cross validation"
      ]
    },
    {
      "cell_type": "markdown",
      "metadata": {
        "id": "0R4-ujHjAF6D",
        "colab_type": "text"
      },
      "source": [
        "### Holdout Cross Validation"
      ]
    },
    {
      "cell_type": "markdown",
      "metadata": {
        "id": "_pPEOvxqAF6F",
        "colab_type": "text"
      },
      "source": [
        "Let's use Pandas to simplify working with the data and keep tabs on which subset of the data is meant for training or testing:"
      ]
    },
    {
      "cell_type": "code",
      "metadata": {
        "id": "hhRR5ZpjAF6J",
        "colab_type": "code",
        "colab": {}
      },
      "source": [
        "df = pd.DataFrame(np.c_[X,y])\n",
        "df.columns = ['X','y']"
      ],
      "execution_count": 0,
      "outputs": []
    },
    {
      "cell_type": "markdown",
      "metadata": {
        "id": "VwLT5szpAF6T",
        "colab_type": "text"
      },
      "source": [
        "Let's perform 60/40 holdout split. That means we'll have to select 60% of our data to convert into Training and 40% of our data to convert into Testing. We'll do this by using pandas <code>DataFrame.sample</code> which will shuffle our raw data then we'll convert 60% of the data into train and 40% of the data into test:"
      ]
    },
    {
      "cell_type": "code",
      "metadata": {
        "id": "5iirw8QfAF6a",
        "colab_type": "code",
        "colab": {}
      },
      "source": [
        "#First get indices for each of the training data\n",
        "train_inds = df.sample(frac=0.6, random_state=20).index\n",
        "test_inds = [d for d in df.index if d not in train_inds]"
      ],
      "execution_count": 0,
      "outputs": []
    },
    {
      "cell_type": "code",
      "metadata": {
        "id": "jqQRhVHwAF6q",
        "colab_type": "code",
        "outputId": "0f1b3a54-5776-4c36-be43-63454fbefa3d",
        "colab": {}
      },
      "source": [
        "df.head()"
      ],
      "execution_count": 0,
      "outputs": [
        {
          "output_type": "execute_result",
          "data": {
            "text/html": [
              "<div>\n",
              "<style scoped>\n",
              "    .dataframe tbody tr th:only-of-type {\n",
              "        vertical-align: middle;\n",
              "    }\n",
              "\n",
              "    .dataframe tbody tr th {\n",
              "        vertical-align: top;\n",
              "    }\n",
              "\n",
              "    .dataframe thead th {\n",
              "        text-align: right;\n",
              "    }\n",
              "</style>\n",
              "<table border=\"1\" class=\"dataframe\">\n",
              "  <thead>\n",
              "    <tr style=\"text-align: right;\">\n",
              "      <th></th>\n",
              "      <th>X</th>\n",
              "      <th>y</th>\n",
              "      <th>holdout</th>\n",
              "    </tr>\n",
              "  </thead>\n",
              "  <tbody>\n",
              "    <tr>\n",
              "      <th>0</th>\n",
              "      <td>-1.145570</td>\n",
              "      <td>-92.898458</td>\n",
              "      <td>train</td>\n",
              "    </tr>\n",
              "    <tr>\n",
              "      <th>1</th>\n",
              "      <td>-1.350129</td>\n",
              "      <td>82.159735</td>\n",
              "      <td>train</td>\n",
              "    </tr>\n",
              "    <tr>\n",
              "      <th>2</th>\n",
              "      <td>-3.164098</td>\n",
              "      <td>-133.766468</td>\n",
              "      <td>train</td>\n",
              "    </tr>\n",
              "    <tr>\n",
              "      <th>3</th>\n",
              "      <td>0.603344</td>\n",
              "      <td>-21.835366</td>\n",
              "      <td>test</td>\n",
              "    </tr>\n",
              "    <tr>\n",
              "      <th>4</th>\n",
              "      <td>-1.470409</td>\n",
              "      <td>-7.533816</td>\n",
              "      <td>test</td>\n",
              "    </tr>\n",
              "  </tbody>\n",
              "</table>\n",
              "</div>"
            ],
            "text/plain": [
              "          X           y holdout\n",
              "0 -1.145570  -92.898458   train\n",
              "1 -1.350129   82.159735   train\n",
              "2 -3.164098 -133.766468   train\n",
              "3  0.603344  -21.835366    test\n",
              "4 -1.470409   -7.533816    test"
            ]
          },
          "metadata": {
            "tags": []
          },
          "execution_count": 113
        }
      ]
    },
    {
      "cell_type": "markdown",
      "metadata": {
        "id": "yt9BSHQKAF69",
        "colab_type": "text"
      },
      "source": [
        "### Exercise\n",
        "\n",
        "Train the model on the training dataset, then compute the MSE on both the training and testing dataset"
      ]
    },
    {
      "cell_type": "markdown",
      "metadata": {
        "id": "ffKl69D6AF7C",
        "colab_type": "text"
      },
      "source": [
        "### Solution"
      ]
    },
    {
      "cell_type": "code",
      "metadata": {
        "id": "8ELrgCwRAF7E",
        "colab_type": "code",
        "outputId": "5334f869-8806-4aa3-83e6-68a0d75af012",
        "colab": {}
      },
      "source": [
        "train_yhat = lm.predict(df.loc[train_inds, ['X']])\n",
        "train_error = df.loc[train_inds, 'y'] - train_yhat\n",
        "train_mse = (train_error**2).sum()/train_error.shape[0]\n",
        "print(train_mse)"
      ],
      "execution_count": 0,
      "outputs": [
        {
          "output_type": "stream",
          "text": [
            "y    1855.585322\n",
            "dtype: float64\n"
          ],
          "name": "stdout"
        }
      ]
    },
    {
      "cell_type": "code",
      "metadata": {
        "id": "nz6voIamAF7N",
        "colab_type": "code",
        "outputId": "7e2337b9-64c7-442c-dc46-3aff61bc7b6c",
        "colab": {}
      },
      "source": [
        "test_yhat = lm.predict(df.loc[test_inds,['X']])\n",
        "test_error = df.loc[test_inds,'y'] - test_yhat\n",
        "test_mse = (test_error**2).sum()/test_error.shape[0]\n",
        "print(test_mse)"
      ],
      "execution_count": 0,
      "outputs": [
        {
          "output_type": "stream",
          "text": [
            "y    2357.719559\n",
            "dtype: float64\n"
          ],
          "name": "stdout"
        }
      ]
    },
    {
      "cell_type": "markdown",
      "metadata": {
        "id": "LM9UjLjSAF7X",
        "colab_type": "text"
      },
      "source": [
        "With **holdout** in particular, there's an easier way to set up your data using sklearn which can produce train and test data for you automatically:"
      ]
    },
    {
      "cell_type": "code",
      "metadata": {
        "id": "Gg1g_PEFAF7c",
        "colab_type": "code",
        "colab": {}
      },
      "source": [
        "from sklearn.model_selection import train_test_split"
      ],
      "execution_count": 0,
      "outputs": []
    },
    {
      "cell_type": "code",
      "metadata": {
        "id": "o4uvv7GhAF7l",
        "colab_type": "code",
        "colab": {}
      },
      "source": [
        "train_X, train_y, test_X, test_y = train_test_split(df['X'],df['y'],test_size=0.4)"
      ],
      "execution_count": 0,
      "outputs": []
    },
    {
      "cell_type": "code",
      "metadata": {
        "id": "S5r2G0qwAF7u",
        "colab_type": "code",
        "outputId": "cf44861e-74ff-4b37-9e2e-41d604ca7be0",
        "colab": {}
      },
      "source": [
        "train_X.head()"
      ],
      "execution_count": 0,
      "outputs": [
        {
          "output_type": "execute_result",
          "data": {
            "text/plain": [
              "39     0.154698\n",
              "136    0.631643\n",
              "87     0.577368\n",
              "299   -0.294066\n",
              "125    0.249228\n",
              "Name: X, dtype: float64"
            ]
          },
          "metadata": {
            "tags": []
          },
          "execution_count": 134
        }
      ]
    },
    {
      "cell_type": "markdown",
      "metadata": {
        "id": "cp32rQuoAF7_",
        "colab_type": "text"
      },
      "source": [
        "We can proceed as usual with the same level of caution for dealing with data shapes"
      ]
    },
    {
      "cell_type": "markdown",
      "metadata": {
        "id": "NoC_0_NwAF8C",
        "colab_type": "text"
      },
      "source": [
        "### Exercise:\n",
        "\n",
        "Perform holdout cross-validation on data generated by <code>train_test_split</code>"
      ]
    },
    {
      "cell_type": "markdown",
      "metadata": {
        "id": "Z-IoT2p_AF8E",
        "colab_type": "text"
      },
      "source": [
        "As expected a model optimized on the training data need not perform well against testing data indicating to us our expected generalization performance is not as good as we'd expect when we trained the model on the full dataset. This is actually rather typical. However as it is a **holdout** validation score and our dataset is relatively small it's subject to error. Instead let's use a better estimate **k-fold** cross validation which is slightly more complicated to set up."
      ]
    },
    {
      "cell_type": "markdown",
      "metadata": {
        "id": "BhJOLt0FAF8H",
        "colab_type": "text"
      },
      "source": [
        "***"
      ]
    },
    {
      "cell_type": "markdown",
      "metadata": {
        "id": "W5p2wsUQAF8K",
        "colab_type": "text"
      },
      "source": [
        "### K-Fold Cross Validation"
      ]
    },
    {
      "cell_type": "markdown",
      "metadata": {
        "id": "NNTUmBuWAF8M",
        "colab_type": "text"
      },
      "source": [
        "Recall that **K-Fold** cross validation is done through splitting up the data into $K$ different subsets of the data. We select each subset of the data and use it as a test set, the rest of the $K-1$ folds become our training data to build a model on:"
      ]
    },
    {
      "cell_type": "markdown",
      "metadata": {
        "id": "IIxVuSEVAF8O",
        "colab_type": "text"
      },
      "source": [
        "Easy steps to building a **K-Fold** cross-validation dataset:\n",
        "1. Shuffle the data order to ensure randomization (in case your data is ordered for whatever reason)\n",
        "2. Split the data into $K$ equal segments\n",
        "3. For each segment assign it a fold number equal to which segment it is"
      ]
    },
    {
      "cell_type": "code",
      "metadata": {
        "id": "Ci1l_ncZAF8S",
        "colab_type": "code",
        "colab": {}
      },
      "source": [
        "#Pick number of folds\n",
        "K = 5"
      ],
      "execution_count": 0,
      "outputs": []
    },
    {
      "cell_type": "code",
      "metadata": {
        "id": "lKc1zrq4AF8b",
        "colab_type": "code",
        "colab": {}
      },
      "source": [
        "#Shuffle the data\n",
        "r_df = df.sample(frac=1).reset_index()"
      ],
      "execution_count": 0,
      "outputs": []
    },
    {
      "cell_type": "code",
      "metadata": {
        "id": "hJlbdLwSAF8p",
        "colab_type": "code",
        "colab": {}
      },
      "source": [
        "#Get total number of samples:\n",
        "n_samples = r_df.shape[0]\n",
        "seg_width = n_samples//K\n",
        "seg_ranges = np.zeros( (K + 1 ))\n",
        "seg_ranges[:-1] = np.arange(0,n_samples,seg_width)\n",
        "seg_ranges[-1] = n_samples"
      ],
      "execution_count": 0,
      "outputs": []
    },
    {
      "cell_type": "code",
      "metadata": {
        "id": "cSiKunojAF80",
        "colab_type": "code",
        "outputId": "5a155236-6a7f-4783-a727-144c711ab628",
        "colab": {}
      },
      "source": [
        "#Loop through K times and assign each subset it's fold\n",
        "for i in np.arange(0,K):\n",
        "    r_df.loc[seg_ranges[i] : seg_ranges[i+1], 'fold'] = i\n",
        "    \n",
        "r_df['fold'] = r_df['fold'].astype(np.int)\n",
        "r_df['fold'].unique()"
      ],
      "execution_count": 0,
      "outputs": [
        {
          "output_type": "execute_result",
          "data": {
            "text/plain": [
              "array([0, 1, 2, 3, 4])"
            ]
          },
          "metadata": {
            "tags": []
          },
          "execution_count": 163
        }
      ]
    },
    {
      "cell_type": "markdown",
      "metadata": {
        "id": "dgSbbc3kAF8_",
        "colab_type": "text"
      },
      "source": [
        "Now that we've assigned each subset of the data a fold number the next step is to loop through each fold, train the model on the rest of the data, and test it on the selected fold:"
      ]
    },
    {
      "cell_type": "code",
      "metadata": {
        "id": "DDKAe-XDAF9B",
        "colab_type": "code",
        "outputId": "a5003243-75a0-4bbc-9bb0-0ffebac8493f",
        "colab": {}
      },
      "source": [
        "lm = LinearRegression()\n",
        "errors = np.zeros(K)\n",
        "for i in np.arange(0,K):\n",
        "    \n",
        "    test = r_df.loc[ r_df['fold'] == i, :]\n",
        "    train = r_df.loc[ r_df['fold'] != i, :]\n",
        "    \n",
        "    \n",
        "    #Fit model\n",
        "    lm.fit(train[['X']],train[['y']])\n",
        "    \n",
        "    #Test\n",
        "    yhat = lm.predict(test[['X']])\n",
        "    error = test[['y']] - yhat\n",
        "    mse = (error**2).sum()/test.shape[0]\n",
        "    errors[i] = mse\n",
        "\n",
        "avg_mse = errors.mean()\n",
        "print(avg_mse)"
      ],
      "execution_count": 0,
      "outputs": [
        {
          "output_type": "stream",
          "text": [
            "2077.038272496422\n"
          ],
          "name": "stdout"
        }
      ]
    },
    {
      "cell_type": "markdown",
      "metadata": {
        "id": "2xKmCSeqAF9I",
        "colab_type": "text"
      },
      "source": [
        "K-Folds gives a much more stable estimate of what our MSE would look like on unseen data. In fact the larger K is, the more stable your estimate is (under some conditions), with a trade-off of compute time. "
      ]
    },
    {
      "cell_type": "markdown",
      "metadata": {
        "id": "DSYKphkcAF9K",
        "colab_type": "text"
      },
      "source": [
        "***"
      ]
    },
    {
      "cell_type": "markdown",
      "metadata": {
        "id": "s5c4cEOdAF9M",
        "colab_type": "text"
      },
      "source": [
        "Another easy way to calculate MSE on your data is to use <code>sklearn.metrics</code> which provides a function to easily calculate mean squared error. It looks as follows:"
      ]
    },
    {
      "cell_type": "code",
      "metadata": {
        "id": "zE25-vQYAF9S",
        "colab_type": "code",
        "colab": {}
      },
      "source": [
        "from sklearn.metrics import mean_squared_error"
      ],
      "execution_count": 0,
      "outputs": []
    },
    {
      "cell_type": "code",
      "metadata": {
        "id": "Y_6Wke2SAF9c",
        "colab_type": "code",
        "outputId": "517b7644-f74b-47c9-ac3f-6bc6ad140d6d",
        "colab": {}
      },
      "source": [
        "train_X, test_X, train_y, test_y = train_test_split(df['X'],df['y'],test_size=0.4)\n",
        "\n",
        "#Convert to matrix to deal with annoying Series behaviour...\n",
        "train_X = train_X.values.reshape(-1,1)\n",
        "train_y = train_y.values.reshape(-1,1)\n",
        "test_X = test_X.values.reshape(-1,1)\n",
        "test_y = test_y.values.reshape(-1,1)\n",
        "\n",
        "lm = LinearRegression()\n",
        "lm.fit(train_X,train_y)\n",
        "\n",
        "yhat = lm.predict(test_X)\n",
        "mean_squared_error(test_y,yhat)"
      ],
      "execution_count": 0,
      "outputs": [
        {
          "output_type": "execute_result",
          "data": {
            "text/plain": [
              "1850.7128178047947"
            ]
          },
          "metadata": {
            "tags": []
          },
          "execution_count": 199
        }
      ]
    },
    {
      "cell_type": "markdown",
      "metadata": {
        "id": "VscQrUS0AF9p",
        "colab_type": "text"
      },
      "source": [
        "***"
      ]
    },
    {
      "cell_type": "markdown",
      "metadata": {
        "id": "ElzHhND_AF9s",
        "colab_type": "text"
      },
      "source": [
        "## Expanding to multiple dimensions and regularization of your linear model\n",
        "\n",
        "\n",
        "Now that we've familiarized ourselves with running a linear model in 2-dimensional space it's time to really take advantage of linear regression's ability to deal with high-dimensional space!\n",
        "\n",
        "We'll go over the following concepts:\n",
        "\n",
        "1. Training a high-dimensional linear regression model\n",
        "2. What overfitting looks like\n",
        "3. Ridge penalization\n",
        "4. LASSO regression as a linear feature selector"
      ]
    },
    {
      "cell_type": "markdown",
      "metadata": {
        "id": "MdLTbgfOAF9u",
        "colab_type": "text"
      },
      "source": [
        "### Make dataset"
      ]
    },
    {
      "cell_type": "code",
      "metadata": {
        "id": "qIwTixcsAF99",
        "colab_type": "code",
        "colab": {}
      },
      "source": [
        "X, y = make_regression(n_samples=300, n_features=100, n_informative=5, n_targets=1, bias=20,\n",
        "                      effective_rank=10,noise=10)\n",
        "\n",
        "df = pd.DataFrame(np.c_[X,y])\n",
        "colnames = ['x{}'.format(i) for i in np.arange(0,X.shape[1])]\n",
        "colnames.append('y')\n",
        "df.columns = colnames"
      ],
      "execution_count": 0,
      "outputs": []
    },
    {
      "cell_type": "code",
      "metadata": {
        "id": "2lViyajxAF-I",
        "colab_type": "code",
        "outputId": "20c57109-4a54-417a-f3cd-ff5fda7de2d5",
        "colab": {}
      },
      "source": [
        "df.head()"
      ],
      "execution_count": 0,
      "outputs": [
        {
          "output_type": "execute_result",
          "data": {
            "text/html": [
              "<div>\n",
              "<style scoped>\n",
              "    .dataframe tbody tr th:only-of-type {\n",
              "        vertical-align: middle;\n",
              "    }\n",
              "\n",
              "    .dataframe tbody tr th {\n",
              "        vertical-align: top;\n",
              "    }\n",
              "\n",
              "    .dataframe thead th {\n",
              "        text-align: right;\n",
              "    }\n",
              "</style>\n",
              "<table border=\"1\" class=\"dataframe\">\n",
              "  <thead>\n",
              "    <tr style=\"text-align: right;\">\n",
              "      <th></th>\n",
              "      <th>x0</th>\n",
              "      <th>x1</th>\n",
              "      <th>x2</th>\n",
              "      <th>x3</th>\n",
              "      <th>x4</th>\n",
              "      <th>x5</th>\n",
              "      <th>x6</th>\n",
              "      <th>x7</th>\n",
              "      <th>x8</th>\n",
              "      <th>x9</th>\n",
              "      <th>...</th>\n",
              "      <th>x91</th>\n",
              "      <th>x92</th>\n",
              "      <th>x93</th>\n",
              "      <th>x94</th>\n",
              "      <th>x95</th>\n",
              "      <th>x96</th>\n",
              "      <th>x97</th>\n",
              "      <th>x98</th>\n",
              "      <th>x99</th>\n",
              "      <th>y</th>\n",
              "    </tr>\n",
              "  </thead>\n",
              "  <tbody>\n",
              "    <tr>\n",
              "      <th>0</th>\n",
              "      <td>-0.016332</td>\n",
              "      <td>-0.029998</td>\n",
              "      <td>0.025692</td>\n",
              "      <td>0.036438</td>\n",
              "      <td>0.002867</td>\n",
              "      <td>-0.006458</td>\n",
              "      <td>0.009555</td>\n",
              "      <td>-0.019746</td>\n",
              "      <td>0.013447</td>\n",
              "      <td>0.015645</td>\n",
              "      <td>...</td>\n",
              "      <td>-0.016801</td>\n",
              "      <td>0.035045</td>\n",
              "      <td>-0.008503</td>\n",
              "      <td>-0.014717</td>\n",
              "      <td>-0.013745</td>\n",
              "      <td>0.007514</td>\n",
              "      <td>0.009524</td>\n",
              "      <td>-0.013257</td>\n",
              "      <td>-0.017677</td>\n",
              "      <td>5.948895</td>\n",
              "    </tr>\n",
              "    <tr>\n",
              "      <th>1</th>\n",
              "      <td>-0.029570</td>\n",
              "      <td>0.014569</td>\n",
              "      <td>-0.033643</td>\n",
              "      <td>-0.003181</td>\n",
              "      <td>0.005403</td>\n",
              "      <td>-0.004055</td>\n",
              "      <td>-0.060722</td>\n",
              "      <td>0.024337</td>\n",
              "      <td>0.011587</td>\n",
              "      <td>0.018878</td>\n",
              "      <td>...</td>\n",
              "      <td>0.001011</td>\n",
              "      <td>-0.008260</td>\n",
              "      <td>0.025129</td>\n",
              "      <td>0.009004</td>\n",
              "      <td>0.005713</td>\n",
              "      <td>0.004385</td>\n",
              "      <td>-0.003775</td>\n",
              "      <td>-0.002268</td>\n",
              "      <td>0.062343</td>\n",
              "      <td>25.876604</td>\n",
              "    </tr>\n",
              "    <tr>\n",
              "      <th>2</th>\n",
              "      <td>0.000805</td>\n",
              "      <td>0.002831</td>\n",
              "      <td>0.037743</td>\n",
              "      <td>0.045772</td>\n",
              "      <td>-0.036491</td>\n",
              "      <td>0.000221</td>\n",
              "      <td>0.006221</td>\n",
              "      <td>-0.001605</td>\n",
              "      <td>0.003920</td>\n",
              "      <td>0.032551</td>\n",
              "      <td>...</td>\n",
              "      <td>-0.008936</td>\n",
              "      <td>0.006759</td>\n",
              "      <td>0.004673</td>\n",
              "      <td>-0.048127</td>\n",
              "      <td>-0.027282</td>\n",
              "      <td>-0.019730</td>\n",
              "      <td>-0.012682</td>\n",
              "      <td>0.014421</td>\n",
              "      <td>-0.016503</td>\n",
              "      <td>24.906888</td>\n",
              "    </tr>\n",
              "    <tr>\n",
              "      <th>3</th>\n",
              "      <td>0.011311</td>\n",
              "      <td>0.014665</td>\n",
              "      <td>0.024365</td>\n",
              "      <td>0.024417</td>\n",
              "      <td>0.008377</td>\n",
              "      <td>0.022570</td>\n",
              "      <td>0.006968</td>\n",
              "      <td>-0.000907</td>\n",
              "      <td>-0.010709</td>\n",
              "      <td>0.020783</td>\n",
              "      <td>...</td>\n",
              "      <td>0.032635</td>\n",
              "      <td>-0.017108</td>\n",
              "      <td>0.001563</td>\n",
              "      <td>0.042633</td>\n",
              "      <td>0.020622</td>\n",
              "      <td>-0.034433</td>\n",
              "      <td>-0.036111</td>\n",
              "      <td>-0.002560</td>\n",
              "      <td>-0.017401</td>\n",
              "      <td>13.523093</td>\n",
              "    </tr>\n",
              "    <tr>\n",
              "      <th>4</th>\n",
              "      <td>-0.000698</td>\n",
              "      <td>-0.003809</td>\n",
              "      <td>-0.023655</td>\n",
              "      <td>-0.041255</td>\n",
              "      <td>0.051600</td>\n",
              "      <td>-0.016694</td>\n",
              "      <td>-0.053136</td>\n",
              "      <td>0.010205</td>\n",
              "      <td>0.035530</td>\n",
              "      <td>0.007630</td>\n",
              "      <td>...</td>\n",
              "      <td>-0.000900</td>\n",
              "      <td>0.043015</td>\n",
              "      <td>-0.017487</td>\n",
              "      <td>-0.018605</td>\n",
              "      <td>0.064708</td>\n",
              "      <td>-0.038424</td>\n",
              "      <td>-0.016295</td>\n",
              "      <td>-0.033151</td>\n",
              "      <td>0.016201</td>\n",
              "      <td>23.166194</td>\n",
              "    </tr>\n",
              "  </tbody>\n",
              "</table>\n",
              "<p>5 rows × 101 columns</p>\n",
              "</div>"
            ],
            "text/plain": [
              "         x0        x1        x2        x3        x4        x5        x6  \\\n",
              "0 -0.016332 -0.029998  0.025692  0.036438  0.002867 -0.006458  0.009555   \n",
              "1 -0.029570  0.014569 -0.033643 -0.003181  0.005403 -0.004055 -0.060722   \n",
              "2  0.000805  0.002831  0.037743  0.045772 -0.036491  0.000221  0.006221   \n",
              "3  0.011311  0.014665  0.024365  0.024417  0.008377  0.022570  0.006968   \n",
              "4 -0.000698 -0.003809 -0.023655 -0.041255  0.051600 -0.016694 -0.053136   \n",
              "\n",
              "         x7        x8        x9    ...           x91       x92       x93  \\\n",
              "0 -0.019746  0.013447  0.015645    ...     -0.016801  0.035045 -0.008503   \n",
              "1  0.024337  0.011587  0.018878    ...      0.001011 -0.008260  0.025129   \n",
              "2 -0.001605  0.003920  0.032551    ...     -0.008936  0.006759  0.004673   \n",
              "3 -0.000907 -0.010709  0.020783    ...      0.032635 -0.017108  0.001563   \n",
              "4  0.010205  0.035530  0.007630    ...     -0.000900  0.043015 -0.017487   \n",
              "\n",
              "        x94       x95       x96       x97       x98       x99          y  \n",
              "0 -0.014717 -0.013745  0.007514  0.009524 -0.013257 -0.017677   5.948895  \n",
              "1  0.009004  0.005713  0.004385 -0.003775 -0.002268  0.062343  25.876604  \n",
              "2 -0.048127 -0.027282 -0.019730 -0.012682  0.014421 -0.016503  24.906888  \n",
              "3  0.042633  0.020622 -0.034433 -0.036111 -0.002560 -0.017401  13.523093  \n",
              "4 -0.018605  0.064708 -0.038424 -0.016295 -0.033151  0.016201  23.166194  \n",
              "\n",
              "[5 rows x 101 columns]"
            ]
          },
          "metadata": {
            "tags": []
          },
          "execution_count": 287
        }
      ]
    },
    {
      "cell_type": "markdown",
      "metadata": {
        "id": "Wvspk8zBAF-T",
        "colab_type": "text"
      },
      "source": [
        "With this dataset, we have $50$ features to work with, and $2000$ samples! This is effectively not visualizable and therefore will require us work with our intuition with how data behaves in high-dimensional space.\n",
        "\n",
        "First we'll start with the most naive approach. Let's start with a simple regression model, explore where it goes wrong with K-fold cross-validation, then try other approaches that can help us get better generalization out of our data:\n",
        "\n",
        "I've created some \"helper functions\" to get you set up quickly. If you'd like to know how things work feel free to copy and paste the function code and examine how each step functions to assign K folds"
      ]
    },
    {
      "cell_type": "code",
      "metadata": {
        "id": "176F5_CaAF-X",
        "colab_type": "code",
        "colab": {}
      },
      "source": [
        "K = 10"
      ],
      "execution_count": 0,
      "outputs": []
    },
    {
      "cell_type": "code",
      "metadata": {
        "id": "LE-Nw2R6AF-r",
        "colab_type": "code",
        "colab": {}
      },
      "source": [
        "#Helper function to deal with K-folds\n",
        "def make_kfolds(df,K):\n",
        "    \n",
        "    #Make K segments to split daat into, and shuffle data up\n",
        "    #Notice reset_index does not contain (drop=True)\n",
        "    #The old index is saved as a column called 'index'\n",
        "    #We'll use this to \"unshuffle\" our dataframe containing assigned K values\n",
        "    shuf_df = df.sample(frac=1).reset_index()\n",
        "    n_samples = shuf_df.shape[0]\n",
        "    seg_width = n_samples//K\n",
        "    seg_ranges = np.zeros( (K + 1 ))\n",
        "    seg_ranges[:-1] = np.arange(0,n_samples,seg_width)\n",
        "    seg_ranges[-1] = n_samples\n",
        "    \n",
        "    #Assign K to shuffled data\n",
        "    for i in np.arange(0,K):\n",
        "        shuf_df.loc[seg_ranges[i] : seg_ranges[i+1], 'fold'] = i\n",
        "    \n",
        "    #Make into integer type\n",
        "    shuf_df['fold'] = shuf_df['fold'].astype(np.int)\n",
        "    \n",
        "    df = pd.merge(df, shuf_df [['index','fold']], how='inner', left_on=df.index, right_on='index')\n",
        "    return df['fold']\n",
        "    \n",
        "    "
      ],
      "execution_count": 0,
      "outputs": []
    },
    {
      "cell_type": "code",
      "metadata": {
        "id": "1uyhKB-uAF-5",
        "colab_type": "code",
        "colab": {}
      },
      "source": [
        "from sklearn.metrics import mean_squared_error"
      ],
      "execution_count": 0,
      "outputs": []
    },
    {
      "cell_type": "code",
      "metadata": {
        "id": "JSjRustaAF_P",
        "colab_type": "code",
        "colab": {}
      },
      "source": [
        "#Assign K-folds to DataFrame\n",
        "df['fold'] = make_kfolds(df,K)"
      ],
      "execution_count": 0,
      "outputs": []
    },
    {
      "cell_type": "code",
      "metadata": {
        "id": "5myphxZ2AF_k",
        "colab_type": "code",
        "colab": {}
      },
      "source": [
        "#Perform linear modelling on each fold and calculate train vs test MSE\n",
        "train_mses = np.zeros(K)\n",
        "test_mses = np.zeros(K)\n",
        "feature_columns = [c for c in df.columns if 'x' in c]\n",
        "lm = LinearRegression()\n",
        "for i in np.arange(0,K):\n",
        "    \n",
        "    #Pull train and test data for current fold\n",
        "    train_mask = df['fold'] != i\n",
        "    ktrain_X = df.loc[train_mask, feature_columns]\n",
        "    ktrain_y = df.loc[train_mask, ['y']]\n",
        "    \n",
        "    test_mask = df['fold'] == i\n",
        "    ktest_X = df.loc[test_mask, feature_columns]\n",
        "    ktest_y = df.loc[test_mask, ['y']]\n",
        "    \n",
        "    #Train model\n",
        "    lm.fit(ktrain_X,ktrain_y)\n",
        "    \n",
        "    #Calculate training MSE\n",
        "    train_yhat = lm.predict(ktrain_X)\n",
        "    train_mse = mean_squared_error(train_yhat,ktrain_y)\n",
        "    train_mses[i] = train_mse\n",
        "    \n",
        "    #Calculate test MSE\n",
        "    test_yhat = lm.predict(ktest_X)\n",
        "    test_mse = mean_squared_error(test_yhat,ktest_y)\n",
        "    test_mses[i] = test_mse"
      ],
      "execution_count": 0,
      "outputs": []
    },
    {
      "cell_type": "code",
      "metadata": {
        "id": "m0GTQdeEAF_v",
        "colab_type": "code",
        "outputId": "95ab9241-c5ee-48ad-9549-620214d04312",
        "colab": {}
      },
      "source": [
        "#Print train and test mses\n",
        "list(zip(train_mses,test_mses))"
      ],
      "execution_count": 0,
      "outputs": [
        {
          "output_type": "execute_result",
          "data": {
            "text/plain": [
              "[(67.03237052116458, 176.30801104377628),\n",
              " (71.77443753141723, 106.3245977199062),\n",
              " (62.797484609422206, 215.28269143296282),\n",
              " (67.67401310613046, 153.62602633964707),\n",
              " (59.97688307371939, 243.94325601967856),\n",
              " (68.7094812962535, 152.1827750052712),\n",
              " (65.35276375341289, 193.1185326185165),\n",
              " (67.26199300573232, 175.93922770652168),\n",
              " (71.81277959515177, 101.74122674836221),\n",
              " (72.81541441058683, 95.59608907180525)]"
            ]
          },
          "metadata": {
            "tags": []
          },
          "execution_count": 293
        }
      ]
    },
    {
      "cell_type": "code",
      "metadata": {
        "id": "Kv4i6Tl_AF_8",
        "colab_type": "code",
        "outputId": "c2ad3e05-d866-4612-ff48-5bf53867dc5e",
        "colab": {}
      },
      "source": [
        "print(train_mses.mean(), test_mses.mean())\n",
        "print(train_mses.std(), test_mses.std())"
      ],
      "execution_count": 0,
      "outputs": [
        {
          "output_type": "stream",
          "text": [
            "67.52076209029912 161.40624337064475\n",
            "3.8756962828418415 47.1428172327177\n"
          ],
          "name": "stdout"
        }
      ]
    },
    {
      "cell_type": "markdown",
      "metadata": {
        "id": "c6D3FIgoAGAJ",
        "colab_type": "text"
      },
      "source": [
        "Looks like our model performs a lot worse on the test set compared to our training set... The error is sometimes 3-4 times larger than what we see in the training set. This is a classic result of over-fitting your data! \n",
        "\n",
        "The probable reason for why this is the case is that the number of features that we have is just **way too high**. We have a tiny sample relative to the number of features that we need to deal with. This scenario is all too common in big-data derived from health-care (and usually even worse!). \n",
        "\n",
        "If you recall from the ML theory lecture, there are a few ways to combat this:\n",
        "\n",
        "1. ***Stop being greedy* and pick out your important features**. However in this case we have no idea what our data actually means, it's just a bunch of $x_i$ meaningless features we have no *a priori* knowledge about. So this isn't a feasibe option...\n",
        "2. **Dimensionality Reduction**. This is a great way to reduce the number of features in your dataset while maintaining as much variance as possible. We'll get to this in a later component of this workshop\n",
        "3. **Regularization**. We could try using **regularization** to deal with the problem of having too many features.\n",
        "***\n",
        "\n",
        "Recall that **regularization** works by modifying the cost function such that it is penalized by the total weight of the features. There are two main kinds of regularization that are typically used (although an infinite amount of regularization methods exist!). \n",
        "\n",
        "1. **Ridge** - $L_2$ penalization using the form $\\text{Cost} + \\lambda \\sum_{i=0}^{K}w_i^2$\n",
        "2. **LASSO** - $L_1$ penalization using the form $\\text{Cost} + \\lambda \\sum_{i=0}^{K}|w_i|$\n",
        "\n",
        "We'll explore both these techniques and how they influence our ability to generalize to unseen data. \n",
        "\n",
        "***\n",
        "Remember that $\\lambda$ is a weight factor that determines just *how strongly we should penalize high feature weights*. This is called a **hyperparameter** of the model and is typically also optimized. However we won't explore this topic as that is pretty advanced. Although if you're interested look up:\n",
        "\n",
        "1. Hyperparameter optimization\n",
        "2. sklearn's GridSearchCV, RandomSearchCV\n",
        "3. Bayesian Optimization of Hyperparameters\n",
        "4. Nested K-fold cross validation\n",
        "***"
      ]
    },
    {
      "cell_type": "markdown",
      "metadata": {
        "id": "O2tT5xXHAGAM",
        "colab_type": "text"
      },
      "source": [
        "Luckily, using both **Ridge** and **LASSO** penalization for our models is as easy as importing it from <code>sklearn</code>! We train it the exact same way we do it for the standard <code>LinearRegression</code> model"
      ]
    },
    {
      "cell_type": "code",
      "metadata": {
        "id": "fQZyExjCAGAS",
        "colab_type": "code",
        "colab": {}
      },
      "source": [
        "from sklearn.linear_model import Lasso, Ridge"
      ],
      "execution_count": 0,
      "outputs": []
    },
    {
      "cell_type": "markdown",
      "metadata": {
        "id": "mTDSQ2dXAGAd",
        "colab_type": "text"
      },
      "source": [
        "### Ridge-penalized Regression\n",
        "\n",
        "Let's first train our Ridge-penalized linear model using the same K-fold cross-validation"
      ]
    },
    {
      "cell_type": "code",
      "metadata": {
        "id": "XYc4-1zOAGAi",
        "colab_type": "code",
        "colab": {}
      },
      "source": [
        "ridge_train_mses = np.zeros(K)\n",
        "ridge_test_mses = np.zeros(K)\n",
        "feature_columns = [c for c in df.columns if 'x' in c]\n",
        "rlm = Ridge(alpha=0.5)\n",
        "\n",
        "for i in np.arange(0,K):\n",
        "    \n",
        "    #Pull train and test data for current fold\n",
        "    train_mask = df['fold'] != i\n",
        "    ktrain_X = df.loc[train_mask, feature_columns]\n",
        "    ktrain_y = df.loc[train_mask, ['y']]\n",
        "    \n",
        "    test_mask = df['fold'] == i\n",
        "    ktest_X = df.loc[test_mask, feature_columns]\n",
        "    ktest_y = df.loc[test_mask, ['y']]\n",
        "    \n",
        "    #Train model\n",
        "    rlm.fit(ktrain_X,ktrain_y)\n",
        "    \n",
        "    #Calculate training MSE\n",
        "    train_yhat = rlm.predict(ktrain_X)\n",
        "    train_mse = mean_squared_error(train_yhat,ktrain_y)\n",
        "    ridge_train_mses[i] = train_mse\n",
        "    \n",
        "    #Calculate test MSE\n",
        "    test_yhat = rlm.predict(ktest_X)\n",
        "    test_mse = mean_squared_error(test_yhat,ktest_y)\n",
        "    ridge_test_mses[i] = test_mse"
      ],
      "execution_count": 0,
      "outputs": []
    },
    {
      "cell_type": "code",
      "metadata": {
        "id": "3BWcfM20AGAq",
        "colab_type": "code",
        "outputId": "56f63717-af24-4c8c-d08f-814977091029",
        "colab": {}
      },
      "source": [
        "print( ridge_train_mses.mean(), ridge_test_mses.mean())\n",
        "print( ridge_train_mses.std(), ridge_test_mses.std())"
      ],
      "execution_count": 0,
      "outputs": [
        {
          "output_type": "stream",
          "text": [
            "96.73095647838252 112.08760334280817\n",
            "4.135396357789876 40.525354938727695\n"
          ],
          "name": "stdout"
        }
      ]
    },
    {
      "cell_type": "markdown",
      "metadata": {
        "id": "oZXKZZbsAGAx",
        "colab_type": "text"
      },
      "source": [
        "Notice what happened here! With Ridge penalization what we did was perform a trade-off. Intuitively what's happening is that Ridge penalization reducing feature weights (linear model coefficients) across all our features which is effectively reducing the complexity of our model. Thus in total our model is being shifted from being too complex (over-fitting, too much variance) to a simpler model (slightly under-fitting possibly, less variance)!\n",
        "\n",
        "Since our end goal really is to maximize the generalizability of our model, we've gained a net positive by penalizing our model for selecting weights that are too high!"
      ]
    },
    {
      "cell_type": "markdown",
      "metadata": {
        "id": "y48y_gGTAGAz",
        "colab_type": "text"
      },
      "source": [
        "### LASSO Regression"
      ]
    },
    {
      "cell_type": "markdown",
      "metadata": {
        "id": "vpjJdQbAAGA0",
        "colab_type": "text"
      },
      "source": [
        "**LASSO** also performs a somewhat similar task to **Ridge**. If you recall from the lecture, the main difference between LASSO and Ridge is that while Ridge reduces only the overall mean weight across all features, LASSO has a tendency to push some features to 0 (features it deems \"unimportant\" by way of collinearity). \n",
        "\n",
        "The game-changing thing about **LASSO** is that it gives us a *subset of features that stand-out as being useful in predicting the outcome $y$*. This is incredibly useful for helping us narrow down on useful features when we're flooded with tons of data. In a scientific setting **LASSO** is great for data-driven hypothesis generation. "
      ]
    },
    {
      "cell_type": "code",
      "metadata": {
        "id": "P54FiHDGAGA2",
        "colab_type": "code",
        "colab": {}
      },
      "source": [
        "lasso_train_mses = np.zeros(K)\n",
        "lasso_test_mses = np.zeros(K)\n",
        "feature_columns = [c for c in df.columns if 'x' in c]\n",
        "llm = Lasso(alpha=0.05)\n",
        "\n",
        "for i in np.arange(0,K):\n",
        "    \n",
        "    #Pull train and test data for current fold\n",
        "    train_mask = df['fold'] != i\n",
        "    ktrain_X = df.loc[train_mask, feature_columns]\n",
        "    ktrain_y = df.loc[train_mask, ['y']]\n",
        "    \n",
        "    test_mask = df['fold'] == i\n",
        "    ktest_X = df.loc[test_mask, feature_columns]\n",
        "    ktest_y = df.loc[test_mask, ['y']]\n",
        "    \n",
        "    #Train model\n",
        "    llm.fit(ktrain_X,ktrain_y)\n",
        "    \n",
        "    #Calculate training MSE\n",
        "    train_yhat = llm.predict(ktrain_X)\n",
        "    train_mse = mean_squared_error(train_yhat,ktrain_y)\n",
        "    lasso_train_mses[i] = train_mse\n",
        "    \n",
        "    #Calculate test MSE\n",
        "    test_yhat = llm.predict(ktest_X)\n",
        "    test_mse = mean_squared_error(test_yhat,ktest_y)\n",
        "    lasso_test_mses[i] = test_mse"
      ],
      "execution_count": 0,
      "outputs": []
    },
    {
      "cell_type": "code",
      "metadata": {
        "id": "eewvYknKAGA8",
        "colab_type": "code",
        "outputId": "182901bf-4eac-4d17-cdbc-d17d8bb34e04",
        "colab": {}
      },
      "source": [
        "print( lasso_train_mses.mean(), lasso_test_mses.mean())\n",
        "print( lasso_train_mses.std(), lasso_test_mses.std())"
      ],
      "execution_count": 0,
      "outputs": [
        {
          "output_type": "stream",
          "text": [
            "109.88424079460438 111.88569036663105\n",
            "4.4071686224144795 39.72881975540047\n"
          ],
          "name": "stdout"
        }
      ]
    },
    {
      "cell_type": "markdown",
      "metadata": {
        "id": "REsB-CthAGBC",
        "colab_type": "text"
      },
      "source": [
        "LASSO performs almost as well as Ridge on the training dataset, but more importantly it also selects a subset of useful features. Let's take a look at the feature weights determined by each of the models that we've trained. For the final model remember that we train the model on the full dataset so let's do that:"
      ]
    },
    {
      "cell_type": "code",
      "metadata": {
        "scrolled": true,
        "id": "vSfrMvKhAGBD",
        "colab_type": "code",
        "outputId": "c235001c-769d-4697-f9ab-c3689feafd94",
        "colab": {}
      },
      "source": [
        "lm = LinearRegression()\n",
        "lm.fit(df[feature_columns],df['y'])\n",
        "\n",
        "rlm = Ridge(alpha=0.5)\n",
        "rlm.fit(df[feature_columns],df['y'])\n",
        "\n",
        "llm = Lasso(alpha=0.05)\n",
        "llm.fit(df[feature_columns],df['y'])"
      ],
      "execution_count": 0,
      "outputs": [
        {
          "output_type": "execute_result",
          "data": {
            "text/plain": [
              "Lasso(alpha=0.05, copy_X=True, fit_intercept=True, max_iter=1000,\n",
              "   normalize=False, positive=False, precompute=False, random_state=None,\n",
              "   selection='cyclic', tol=0.0001, warm_start=False)"
            ]
          },
          "metadata": {
            "tags": []
          },
          "execution_count": 382
        }
      ]
    },
    {
      "cell_type": "markdown",
      "metadata": {
        "id": "0e63lrPwAGBJ",
        "colab_type": "text"
      },
      "source": [
        "With each model trained let's pull out the coefficient each model spits out. We'll include the intercepts as well:"
      ]
    },
    {
      "cell_type": "code",
      "metadata": {
        "id": "hq8ntoJjAGBL",
        "colab_type": "code",
        "colab": {}
      },
      "source": [
        "lm_coeff = np.r_[ np.array(lm.intercept_), lm.coef_ ]\n",
        "rlm_coeff = np.r_[ np.array(rlm.intercept_), rlm.coef_ ]\n",
        "llm_coeff = np.r_[ np.array(llm.intercept_), llm.coef_ ]"
      ],
      "execution_count": 0,
      "outputs": []
    },
    {
      "cell_type": "markdown",
      "metadata": {
        "id": "OOjUlk6qAGBR",
        "colab_type": "text"
      },
      "source": [
        "Now with every coefficient pulled out, let's plot them all:"
      ]
    },
    {
      "cell_type": "code",
      "metadata": {
        "id": "u26jv5uCAGBS",
        "colab_type": "code",
        "outputId": "cc7bf184-9c0e-4a6c-f03e-0d566b780245",
        "colab": {}
      },
      "source": [
        "fig, ax = plt.subplots()\n",
        "x = np.arange(0,lm_coeff.shape[0])\n",
        "ax.plot(x,lm_coeff,'r',label='Standard Linear Model')\n",
        "ax.plot(x,rlm_coeff,'g',label='Ridge Regression')\n",
        "ax.plot(x,llm_coeff,'b',label='LASSO Regression')\n",
        "\n",
        "ax.set_xlabel('Feature #')\n",
        "ax.set_ylabel('Feature Weight')\n",
        "ax.set_title('Feature weights across different penalization methods')\n",
        "ax.legend()\n",
        "plt.show()"
      ],
      "execution_count": 0,
      "outputs": [
        {
          "output_type": "display_data",
          "data": {
            "image/png": "[encoded data removed]",
            "text/plain": [
              "<Figure size 576x396 with 1 Axes>"
            ]
          },
          "metadata": {
            "tags": []
          }
        }
      ]
    }
  ]
}